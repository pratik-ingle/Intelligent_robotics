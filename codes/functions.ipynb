{
 "cells": [
  {
   "cell_type": "markdown",
   "metadata": {},
   "source": [
    "# Question 1"
   ]
  },
  {
   "cell_type": "markdown",
   "metadata": {},
   "source": [
    "## 1. Line b/w two points"
   ]
  },
  {
   "cell_type": "code",
   "execution_count": 1,
   "metadata": {},
   "outputs": [
    {
     "data": {
      "text/plain": [
       "(2, -3, 1)"
      ]
     },
     "execution_count": 1,
     "metadata": {},
     "output_type": "execute_result"
    }
   ],
   "source": [
    "\n",
    "\n",
    "def line_bw_points(A, B):\n",
    "    \"\"\"\n",
    "    Parameters:\n",
    "    ----------\n",
    "    A: first point, tuple\n",
    "    B: second point, tuple\n",
    "    Returns:\n",
    "    --------\n",
    "    tuple: (x coefficient, y coeffiecient, slop of line)\n",
    "    \"\"\"\n",
    "    x_coff = B[1] - A[1] \n",
    "    y_coff = A[0] - B[0]\n",
    "    c = x_coff*A[0] + y_coff*A[1]\n",
    "    # print(f\"the line b/w {A} and {B} is {x_coff}x + {y_coff}y = {c}\")\n",
    "    return (x_coff, y_coff, c)\n",
    "\n",
    "line_bw_points((2,1), (5,3))"
   ]
  },
  {
   "cell_type": "markdown",
   "metadata": {},
   "source": [
    "## 2. Distance b/w two points"
   ]
  },
  {
   "cell_type": "code",
   "execution_count": 2,
   "metadata": {},
   "outputs": [
    {
     "data": {
      "text/plain": [
       "3.605551275463989"
      ]
     },
     "execution_count": 2,
     "metadata": {},
     "output_type": "execute_result"
    }
   ],
   "source": [
    "import numpy as np\n",
    "def distance_bw_points(A, B):\n",
    "    \"\"\"\n",
    "    Arguments:\n",
    "    ----------\n",
    "    A: first point, tuple\n",
    "    B: second point, tuple\n",
    "    Returns:\n",
    "    --------\n",
    "    dist: float, distance \n",
    "    \"\"\"\n",
    "    A = np.array(A)\n",
    "    B = np.array(B)\n",
    "\n",
    "    return np.linalg.norm(A - B)\n",
    "\n",
    "distance_bw_points((2,1), (5,3))\n"
   ]
  },
  {
   "cell_type": "markdown",
   "metadata": {},
   "source": [
    "## 3. Perpendicular distance a point and a line segment"
   ]
  },
  {
   "cell_type": "code",
   "execution_count": 3,
   "metadata": {},
   "outputs": [
    {
     "data": {
      "text/plain": [
       "22.307168267119"
      ]
     },
     "execution_count": 3,
     "metadata": {},
     "output_type": "execute_result"
    }
   ],
   "source": [
    "def perpendicular_dis(A, line):\n",
    "    \"\"\"\n",
    "    Arguments:\n",
    "    ----------\n",
    "    A: a point, tuple\n",
    "    line: points of lines, tuple\n",
    "    Returns:\n",
    "    --------\n",
    "    dis: float\n",
    "    \"\"\"\n",
    "    return abs((line[0] * A[0] + line[1] * A[1] + line[2])) / np.sqrt(np.square(line[0]) + np.square(line[1]))\n",
    "    \n",
    "perpendicular_dis((-11, -24), (1, -9, -3))"
   ]
  },
  {
   "cell_type": "markdown",
   "metadata": {},
   "source": [
    "## 4. distance b/w a point and a polygon"
   ]
  },
  {
   "cell_type": "code",
   "execution_count": 4,
   "metadata": {},
   "outputs": [
    {
     "data": {
      "text/latex": [
       "$\\displaystyle \\sqrt{13}$"
      ],
      "text/plain": [
       "sqrt(13)"
      ]
     },
     "execution_count": 4,
     "metadata": {},
     "output_type": "execute_result"
    }
   ],
   "source": [
    "from sympy import Polygon, Point\n",
    "def distance_from_polygon(A, poly_ver):\n",
    "    \"\"\"\n",
    "    Arguments:\n",
    "    ----------\n",
    "    A: a point\n",
    "    poly: vertices of polygon, list of tuples\n",
    "    Returns:\n",
    "    --------\n",
    "    float\n",
    "    \"\"\"\n",
    "     \n",
    "    poly = Polygon(*[Point(i) for i in poly_ver])\n",
    "\n",
    "    return poly.distance(Point(A[0], A[1]))\n",
    "\n",
    "distance_from_polygon((3,5), [(0, 2), (0, 1), (1, 0), (1, 2)])\n"
   ]
  },
  {
   "cell_type": "markdown",
   "metadata": {},
   "source": [
    "## 5. Tangent vector to a polygon"
   ]
  },
  {
   "cell_type": "code",
   "execution_count": 27,
   "metadata": {},
   "outputs": [
    {
     "name": "stderr",
     "output_type": "stream",
     "text": [
      "100%|██████████| 1/1 [00:00<00:00, 417.01it/s]"
     ]
    },
    {
     "name": "stdout",
     "output_type": "stream",
     "text": [
      "[Point(0.00, -0.40), Point(0.25, -0.25), Point(0.00, 0.00)]\n"
     ]
    },
    {
     "name": "stderr",
     "output_type": "stream",
     "text": [
      "\n"
     ]
    },
    {
     "data": {
      "text/plain": [
       "\n",
       "(0.00, -0.40): ((0.00, -0.40), (0.25, -0.25))\n",
       "(0.25, -0.25): ((0.00, -0.40), (0.25, -0.25))\n",
       "(-0.25, -0.50): ((-0.25, -0.50), (0.50, -0.50))((-0.25, -0.50), (-0.50, -0.25))\n",
       "(0.50, -0.50): ((-0.25, -0.50), (0.50, -0.50))((0.50, -0.50), (0.50, 0.50))\n",
       "(-0.50, -0.25): ((-0.25, -0.50), (-0.50, -0.25))((-0.50, -0.25), (-0.50, 0.50))\n",
       "(0.50, 0.50): ((0.50, -0.50), (0.50, 0.50))((0.50, 0.50), (-0.50, 0.50))\n",
       "(-0.50, 0.50): ((0.50, 0.50), (-0.50, 0.50))((-0.50, -0.25), (-0.50, 0.50))"
      ]
     },
     "execution_count": 27,
     "metadata": {},
     "output_type": "execute_result"
    }
   ],
   "source": [
    "import pyvisgraph as vg\n",
    "def visibility_graph_path( start, goal):\n",
    "        \"\"\"\n",
    "        Arguments:\n",
    "        ----------\n",
    "        start: start point, tuple\n",
    "        goal: goal point, tuple\n",
    "        Returns:\n",
    "        --------\n",
    "        shortest: shortest path\n",
    "        \"\"\"\n",
    "        polys = [[vg.Point(start[0], start[1]), vg.Point(goal[0], goal[1]), vg.Point(-0.25,-0.5),\n",
    "                  vg.Point(0.5,-0.5), vg.Point(0.5,0.5), vg.Point(-0.5,0.5),\n",
    "                  vg.Point(-0.5,-0.25), vg.Point(0.25,-0.25)]]\n",
    "        \n",
    "        g = vg.VisGraph()\n",
    "        g.build(polys)\n",
    "        shortest = g.shortest_path(vg.Point(start[0], start[1]), vg.Point(goal[0], goal[1]))\n",
    "        print(shortest)\n",
    "        return shortest, g\n",
    "start_point = (0, -0.4)\n",
    "end_point =  (0,0)\n",
    "polys = [[vg.Point(start_point[0], start_point[1]), vg.Point(end_point[0], end_point[1]), vg.Point(-0.25,-0.5),\n",
    "                  vg.Point(0.5,-0.5), vg.Point(0.5,0.5), vg.Point(-0.5,0.5),\n",
    "                  vg.Point(-0.5,-0.25), vg.Point(0.25,-0.25)]]\n",
    "shortest_path, g = visibility_graph_path(start_point, end_point)\n",
    "point = vg.Point(1, 2)\n",
    "# g.closest_point(point,polys)\n",
    "\n",
    "g.find_visible(point) # posible vectors\n",
    "# g.visgraph\n"
   ]
  },
  {
   "cell_type": "markdown",
   "metadata": {},
   "source": [
    "## 6. Intersection of two polygons"
   ]
  },
  {
   "cell_type": "code",
   "execution_count": 5,
   "metadata": {},
   "outputs": [
    {
     "data": {
      "text/plain": [
       "[]"
      ]
     },
     "execution_count": 5,
     "metadata": {},
     "output_type": "execute_result"
    }
   ],
   "source": [
    "def intersection_of_polygons(poly_1, poly_2):\n",
    "    \"\"\" \n",
    "    Argunments:\n",
    "    ----------\n",
    "    ploy_1: vertices of polygon 1, list of tuples\n",
    "    ploy_2: vertices of polygon 2, list of tuples\n",
    "    Returns:\n",
    "    --------\n",
    "    list of points of intersection\n",
    "    \"\"\"\n",
    "    poly_1 = Polygon(*[Point(i) for i in poly_1])\n",
    "    poly_2 = Polygon(*[Point(i) for i in poly_2])\n",
    "\n",
    "    return poly_1.intersection(poly_2)\n",
    "\n",
    "intersection_of_polygons([(0, 0), (1, 0), (5, 0), (0, 1)], [(0, -1)])"
   ]
  },
  {
   "cell_type": "markdown",
   "metadata": {},
   "source": [
    "# Question 2"
   ]
  },
  {
   "cell_type": "code",
   "execution_count": 6,
   "metadata": {},
   "outputs": [],
   "source": [
    "\n",
    "import numpy as np\n",
    "\n",
    "class helper():\n",
    "    \n",
    "    def get_heading_angle(self,R):\n",
    "        \"\"\" \n",
    "        Arguments:\n",
    "        ----------\n",
    "        R: orientation matrix\n",
    "\n",
    "        Returns:\n",
    "        --------\n",
    "        theta_z = angle normal to z axis\n",
    "        \"\"\"\n",
    "        theta_z = np.arctan2(R[2,1], R[1,1])\n",
    "        angle = np.degrees(theta_z)\n",
    "        if angle < 0:\n",
    "            angle = 360 + angle\n",
    "        return angle\n",
    "\n",
    "    def angel_line_horizontal(self,p1, p2):\n",
    "        \"\"\" \n",
    "        Arguments:\n",
    "        ----------\n",
    "        p1, p2: two pints on a line\n",
    "\n",
    "        Returns:\n",
    "        --------\n",
    "        angle: degree\n",
    "        \"\"\"\n",
    "        dx = p2[0] - p1[0]\n",
    "        dy = p2[1] - p1[1]\n",
    "        theta = np.arctan2(dy, dx)\n",
    "        angle = np.degrees(theta)  # angle is in (-180, 180]\n",
    "        if angle < 0:\n",
    "            angle = 360 + angle\n",
    "        return angle"
   ]
  },
  {
   "cell_type": "markdown",
   "metadata": {},
   "source": [
    "# Question 7: Trapezoidal decomposition"
   ]
  },
  {
   "cell_type": "code",
   "execution_count": 7,
   "metadata": {},
   "outputs": [
    {
     "name": "stdout",
     "output_type": "stream",
     "text": [
      "point is closest to Vector((1.0, -0.75)) on the line\n"
     ]
    }
   ],
   "source": [
    "# import bpy\n",
    "# !pip install mathutils\n",
    "from mathutils.geometry import intersect_point_line\n",
    "\n",
    "line = ((1, -1), (1, -0.5))\n",
    "point = (0, -0.75)\n",
    "\n",
    "intersect = intersect_point_line(point, line[0], line[1])\n",
    "\n",
    "print('point is closest to',intersect[0],'on the line')"
   ]
  },
  {
   "cell_type": "code",
   "execution_count": null,
   "metadata": {},
   "outputs": [],
   "source": []
  },
  {
   "cell_type": "markdown",
   "metadata": {},
   "source": [
    "# Question 8"
   ]
  },
  {
   "cell_type": "code",
   "execution_count": 8,
   "metadata": {},
   "outputs": [
    {
     "name": "stdout",
     "output_type": "stream",
     "text": [
      "[<shapely.geometry.polygon.Polygon object at 0x7f7d47e6f880>, <shapely.geometry.polygon.Polygon object at 0x7f7d47e6f8b0>]\n"
     ]
    },
    {
     "data": {
      "image/png": "[encoded data removed]",
      "text/plain": [
       "<Figure size 432x288 with 1 Axes>"
      ]
     },
     "metadata": {
      "needs_background": "light"
     },
     "output_type": "display_data"
    }
   ],
   "source": [
    "from shapely.ops import linemerge, unary_union, polygonize\n",
    "from shapely.geometry import LineString, Polygon\n",
    "\n",
    "# Define the Polygon and the cutting line\n",
    "line = LineString([(1, 0), (10.11, 3)])\n",
    "polygon = Polygon([(0, 2), (5, 0.2), (5, 3)])\n",
    "\n",
    "\n",
    "def cut_polygon_by_line(polygon, line):\n",
    "    merged = linemerge([polygon.boundary, line])\n",
    "    borders = unary_union(merged)\n",
    "    polygons = polygonize(borders)\n",
    "    return list(polygons)\n",
    "\n",
    "def plot(shapely_objects, figure_path='fig.png'):\n",
    "    from matplotlib import pyplot as plt\n",
    "    import geopandas as gpd\n",
    "    boundary = gpd.GeoSeries(shapely_objects)\n",
    "    boundary.plot(color=['red', 'green', 'blue', 'yellow', 'yellow'])\n",
    "    plt.savefig(figure_path)\n",
    "\n",
    "result = cut_polygon_by_line(polygon, line)\n",
    "print(result)\n",
    "plot(result)\n"
   ]
  },
  {
   "cell_type": "code",
   "execution_count": 10,
   "metadata": {},
   "outputs": [
    {
     "data": {
      "image/png": "[encoded data removed]",
      "text/plain": [
       "<Figure size 360x360 with 1 Axes>"
      ]
     },
     "metadata": {
      "needs_background": "light"
     },
     "output_type": "display_data"
    },
    {
     "name": "stdout",
     "output_type": "stream",
     "text": [
      "Total distance traveled 15.890000000000008\n"
     ]
    }
   ],
   "source": [
    "from math import dist\n",
    "from shapely.ops import linemerge, unary_union, polygonize\n",
    "from shapely.geometry import LineString, Polygon\n",
    "from itertools import chain\n",
    "import matplotlib.pyplot as plt\n",
    "\n",
    "def cut_polygon_by_line(polygon, line):\n",
    "        merged = linemerge([polygon.boundary, line])\n",
    "        borders = unary_union(merged)\n",
    "        polygons = polygonize(borders)\n",
    "        return list(polygons)\n",
    "\n",
    "\n",
    "def plot(shapely_objects, figure_path='fig.png'):\n",
    "    from matplotlib import pyplot as plt\n",
    "    import geopandas as gpd\n",
    "    boundary = gpd.GeoSeries(shapely_objects)\n",
    "    boundary.plot(color=['red', 'green', 'blue', 'yellow', 'yellow'])\n",
    "    plt.savefig(figure_path)\n",
    "\n",
    "\n",
    "def lawn_mower(poly_region, sen_range):\n",
    "    x_min, y_min = np.array(poly_region).min(axis=0)[0], np.array(poly_region).min(axis=0)[1]\n",
    "    x_max, y_max = np.array(poly_region).max(axis=0)[0], np.array(poly_region).max(axis=0)[1]\n",
    "    \n",
    "    lines = [([(x, y_min), (x, y_max)]) for x in np.arange(x_min+sen_range, x_max, sen_range)]\n",
    "    # print(lines)\n",
    "    \n",
    "    wave_points = []\n",
    "    for line in lines:\n",
    "        # print(line)\n",
    "        result = cut_polygon_by_line(Polygon(poly_region), LineString(line))\n",
    "        # print(len(result))\n",
    "        lis = result[0].intersection(result[1])\n",
    "        wave_points.append(tuple(lis.coords))\n",
    "        \n",
    "        # plot(result)\n",
    "    \n",
    "    for iter, wave in enumerate(wave_points):\n",
    "        if iter%2 == 1:\n",
    "            wave_points[iter] = (wave[1], wave[0])\n",
    "        \n",
    "    wave_points = list(chain.from_iterable(wave_points))\n",
    "    return wave_points\n",
    "        \n",
    "def plot_wavepoints(poly_region, wave_points, region):\n",
    "    plt.rcParams[\"figure.figsize\"] = [5, 5]\n",
    "    plt.rcParams[\"figure.autolayout\"] = True\n",
    "    polygon1 = Polygon(poly_region)\n",
    "    x, y = polygon1.exterior.xy\n",
    "    plt.plot(x, y, c=\"red\")\n",
    "    for iter, wave in enumerate(wave_points[:-1]):\n",
    "        x_values = [wave_points[iter][0], wave_points[iter+1][0]]\n",
    "        y_values = [wave_points[iter][1], wave_points[iter+1][1]]\n",
    "        if iter != len(wave_points):\n",
    "            plt.plot(x_values, y_values, linestyle='-', c=\"green\")\n",
    "    plt.title(f\"lawn_mower region:{region}\")\n",
    "    plt.show()\n",
    "    \n",
    "    \n",
    "def dis_covered(wave_points):\n",
    "    dist = sum(\n",
    "        np.linalg.norm(np.array(wave_points[iter]) - np.array(wave_points[iter + 1]))\n",
    "        for iter, wave in enumerate(wave_points[:-1])\n",
    "        if iter != len(wave_points))\n",
    "            \n",
    "    return dist\n",
    "\n",
    "poly_region =  [(-1,-1), (1,-1), (1,-0.5), (-1,-0.5)]\n",
    "sen_range = 0.07\n",
    "wave_points = lawn_mower(poly_region, sen_range=sen_range)\n",
    "# print(wave_points)\n",
    "plot_wavepoints(poly_region, wave_points, 1)\n",
    "\n",
    "total_dis_covered = dis_covered(wave_points)\n",
    "print(\"Total distance traveled\", total_dis_covered)\n",
    " \n"
   ]
  },
  {
   "cell_type": "code",
   "execution_count": null,
   "metadata": {},
   "outputs": [
    {
     "ename": "",
     "evalue": "",
     "output_type": "error",
     "traceback": [
      "\u001b[1;31mnotebook controller is DISPOSED. \n",
      "\u001b[1;31mView Jupyter <a href='command:jupyter.viewOutput'>log</a> for further details."
     ]
    }
   ],
   "source": []
  },
  {
   "cell_type": "markdown",
   "metadata": {},
   "source": [
    "# Midsem "
   ]
  },
  {
   "cell_type": "markdown",
   "metadata": {},
   "source": [
    "## Question 1       "
   ]
  },
  {
   "cell_type": "code",
   "execution_count": null,
   "metadata": {},
   "outputs": [
    {
     "name": "stdout",
     "output_type": "stream",
     "text": [
      "[(1.0, 0.0), (1.0, 10.0), (2.0, 10.0), (2.0, 0.0), (3.0, 0.0), (3.0, 10.0), (4.0, 10.0), (4.0, 0.0), (5.0, 0.0), (5.0, 10.0), (6.0, 10.0), (6.0, 0.0), (7.0, 0.0), (7.0, 10.0), (8.0, 10.0), (8.0, 0.0), (9.0, 0.0), (9.0, 10.0)]\n"
     ]
    },
    {
     "data": {
      "image/png": "[encoded data removed]",
      "text/plain": [
       "<Figure size 360x360 with 1 Axes>"
      ]
     },
     "metadata": {
      "needs_background": "light"
     },
     "output_type": "display_data"
    },
    {
     "name": "stdout",
     "output_type": "stream",
     "text": [
      "Total distance traveled 98.0\n"
     ]
    },
    {
     "ename": "",
     "evalue": "",
     "output_type": "error",
     "traceback": [
      "\u001b[1;31mnotebook controller is DISPOSED. \n",
      "\u001b[1;31mView Jupyter <a href='command:jupyter.viewOutput'>log</a> for further details."
     ]
    }
   ],
   "source": [
    "\n",
    "from math import dist\n",
    "from shapely.ops import linemerge, unary_union, polygonize\n",
    "from shapely.geometry import LineString, Polygon\n",
    "from itertools import chain\n",
    "import matplotlib.pyplot as plt\n",
    "\n",
    "def cut_polygon_by_line(polygon, line):\n",
    "        merged = linemerge([polygon.boundary, line])\n",
    "        borders = unary_union(merged)\n",
    "        polygons = polygonize(borders)\n",
    "        return list(polygons)\n",
    "\n",
    "\n",
    "def plot(shapely_objects, figure_path='fig.png'):\n",
    "    from matplotlib import pyplot as plt\n",
    "    import geopandas as gpd\n",
    "    boundary = gpd.GeoSeries(shapely_objects)\n",
    "    boundary.plot(color=['red', 'green', 'blue', 'yellow', 'yellow'])\n",
    "    plt.savefig(figure_path)\n",
    "\n",
    "\n",
    "def lawn_mower(poly_region, sen_range):\n",
    "    x_min, y_min = np.array(poly_region).min(axis=0)[0], np.array(poly_region).min(axis=0)[1]\n",
    "    x_max, y_max = np.array(poly_region).max(axis=0)[0], np.array(poly_region).max(axis=0)[1]\n",
    "    \n",
    "    lines = [([(x, y_min), (x, y_max)]) for x in np.arange(x_min+sen_range, x_max, sen_range)]\n",
    "    # print(lines)\n",
    "    \n",
    "    wave_points = []\n",
    "    for line in lines:\n",
    "        # print(line)\n",
    "        result = cut_polygon_by_line(Polygon(poly_region), LineString(line))\n",
    "        # print(len(result))\n",
    "        lis = result[0].intersection(result[1])\n",
    "        wave_points.append(tuple(lis.coords))\n",
    "        \n",
    "        # plot(result)\n",
    "    \n",
    "    for iter, wave in enumerate(wave_points):\n",
    "        if iter%2 == 1:\n",
    "            wave_points[iter] = (wave[1], wave[0])\n",
    "        \n",
    "    wave_points = list(chain.from_iterable(wave_points))\n",
    "    return wave_points\n",
    "        \n",
    "def plot_wavepoints(poly_region, wave_points, region):\n",
    "    plt.rcParams[\"figure.figsize\"] = [5, 5]\n",
    "    plt.rcParams[\"figure.autolayout\"] = True\n",
    "    polygon1 = Polygon(poly_region)\n",
    "    x, y = polygon1.exterior.xy\n",
    "    plt.plot(x, y, c=\"red\")\n",
    "    for iter, wave in enumerate(wave_points[:-1]):\n",
    "        x_values = [wave_points[iter][0], wave_points[iter+1][0]]\n",
    "        y_values = [wave_points[iter][1], wave_points[iter+1][1]]\n",
    "        if iter != len(wave_points):\n",
    "            plt.plot(x_values, y_values, linestyle='-', c=\"green\")\n",
    "    plt.title(f\"lawn_mower region:{region}\")\n",
    "    plt.show()\n",
    "    \n",
    "    \n",
    "def dis_covered(wave_points):\n",
    "    dist = sum(\n",
    "        np.linalg.norm(np.array(wave_points[iter]) - np.array(wave_points[iter + 1]))\n",
    "        for iter, wave in enumerate(wave_points[:-1])\n",
    "        if iter != len(wave_points))\n",
    "            \n",
    "    return dist\n",
    "\n",
    "poly_region =  [(0,0), (10,0), (10,10), (0,10)]\n",
    "sen_range = 1\n",
    "wave_points = lawn_mower(poly_region, sen_range=sen_range)\n",
    "print(wave_points)\n",
    "plot_wavepoints(poly_region, wave_points, 1)\n",
    "\n",
    "total_dis_covered = dis_covered(wave_points)\n",
    "print(\"Total distance traveled\", total_dis_covered)\n",
    " \n"
   ]
  },
  {
   "cell_type": "code",
   "execution_count": null,
   "metadata": {},
   "outputs": [
    {
     "data": {
      "image/png": "[encoded data removed]",
      "text/plain": [
       "<Figure size 360x360 with 1 Axes>"
      ]
     },
     "metadata": {
      "needs_background": "light"
     },
     "output_type": "display_data"
    },
    {
     "name": "stdout",
     "output_type": "stream",
     "text": [
      "Total distance traveled 68.42200056345858\n",
      "total time to cover all regions 10.212238890068445\n"
     ]
    },
    {
     "ename": "",
     "evalue": "",
     "output_type": "error",
     "traceback": [
      "\u001b[1;31mnotebook controller is DISPOSED. \n",
      "\u001b[1;31mView Jupyter <a href='command:jupyter.viewOutput'>log</a> for further details."
     ]
    }
   ],
   "source": [
    "A = [(-1,-1), (1,-1), (1,-0.5), (-1,-0.5)]\n",
    "B = [(-1,-0.5), (0.5,-0.5), (0.5,-0.25), (-1,-0.25)]\n",
    "C = [(0.5,-0.5), (1,-0.5), (1,0.5), (0.5,0.5)]\n",
    "D = [(-1,-0.25), (-0.5,-0.25), (-0.5,0.5), (-1,0.5)]   \n",
    "E = [(-0.5,-0.25), (0.5,-0.25), (0.5,0.5), (-0.5,0.5)]\n",
    "F = [(-1,0.5), (1,0.5), (1,1), (-1,1)]\n",
    "\n",
    "# regions = {\"A\":A, \"B\":B, \"C\":C, \"D\":D, \"E\":E, \"F\":F}\n",
    "regions = {\"A\":A, \"C\":C,  \"E\":E, \"B\":B,  \"D\":D,  \"F\":F, }\n",
    "\n",
    "\n",
    "def plot_region_covered(regions, wave_points):\n",
    "    plt.rcParams[\"figure.figsize\"] = [5, 5]\n",
    "    plt.rcParams[\"figure.autolayout\"] = True\n",
    "    for reg in regions:\n",
    "        polygon1 = Polygon(regions[reg])\n",
    "        x, y = polygon1.exterior.xy\n",
    "        plt.plot(x, y )\n",
    "    for iter, wave in enumerate(wave_points[:-1]):\n",
    "        x_values = [wave_points[iter][0], wave_points[iter+1][0]]\n",
    "        y_values = [wave_points[iter][1], wave_points[iter+1][1]]\n",
    "        if iter != len(wave_points):\n",
    "            plt.plot(x_values, y_values, linestyle='-', c=\"green\")\n",
    "    plt.title(f\"lawn_mower all region\")\n",
    "    plt.show()\n",
    "    \n",
    "\n",
    "def cover_all_regions(regions, sen_range):\n",
    "    covered_wave_points = []\n",
    "    for reg in regions:\n",
    "        lawn_mower(poly_region, sen_range=sen_range)\n",
    "        wave_points = lawn_mower(regions[reg], sen_range=sen_range)\n",
    "        # print(wave_points)\n",
    "        # plot_wavepoints(regions[reg], wave_points, reg)\n",
    "        total_dis_covered = dis_covered(wave_points)\n",
    "        # print(\"Total distance traveled\", total_dis_covered)\n",
    "        covered_wave_points = covered_wave_points + wave_points\n",
    "        \n",
    "    return covered_wave_points\n",
    "   \n",
    "def time_taken(distance, speed):\n",
    "    return distance/speed\n",
    "\n",
    "sen_range = 0.07     \n",
    "wave_points = cover_all_regions(regions, sen_range)\n",
    "plot_region_covered(regions, wave_points)\n",
    "total_dis_covered = dis_covered(wave_points)\n",
    "print(\"Total distance traveled\", total_dis_covered)\n",
    "print(\"total time to cover all regions\", time_taken(total_dis_covered, 6.7))\n",
    "\n"
   ]
  },
  {
   "cell_type": "code",
   "execution_count": null,
   "metadata": {},
   "outputs": [],
   "source": []
  },
  {
   "cell_type": "markdown",
   "metadata": {},
   "source": [
    "## Question 3"
   ]
  },
  {
   "cell_type": "code",
   "execution_count": 5,
   "metadata": {},
   "outputs": [
    {
     "name": "stderr",
     "output_type": "stream",
     "text": [
      "100%|██████████| 1/1 [00:00<00:00, 270.43it/s]"
     ]
    },
    {
     "name": "stdout",
     "output_type": "stream",
     "text": [
      "[Point(0.00, -0.40), Point(0.25, -0.25), Point(0.00, 0.00)]\n"
     ]
    },
    {
     "name": "stderr",
     "output_type": "stream",
     "text": [
      "\n"
     ]
    }
   ],
   "source": [
    "import pyvisgraph as vg\n",
    "def visibility_graph_path( start, goal):\n",
    "        \"\"\"\n",
    "        Arguments:\n",
    "        ----------\n",
    "        start: start point, tuple\n",
    "        goal: goal point, tuple\n",
    "        Returns:\n",
    "        --------\n",
    "        shortest: shortest path\n",
    "        \"\"\"\n",
    "        polys = [[vg.Point(start[0], start[1]), vg.Point(goal[0], goal[1]), vg.Point(-0.25,-0.5),\n",
    "                  vg.Point(0.5,-0.5), vg.Point(0.5,0.5), vg.Point(-0.5,0.5),\n",
    "                  vg.Point(-0.5,-0.25), vg.Point(0.25,-0.25)]]\n",
    "        \n",
    "        g = vg.VisGraph()\n",
    "        g.build(polys)\n",
    "        shortest = g.shortest_path(vg.Point(start[0], start[1]), vg.Point(goal[0], goal[1]))\n",
    "        print(shortest)\n",
    "        return shortest\n",
    "start_point = (0, -0.4)\n",
    "end_point =  (0,0)\n",
    "shortest_path = visibility_graph_path(start_point, end_point)"
   ]
  },
  {
   "cell_type": "code",
   "execution_count": 7,
   "metadata": {},
   "outputs": [
    {
     "name": "stdout",
     "output_type": "stream",
     "text": [
      "Output saved to: example_shortest_path_plot.png\n"
     ]
    }
   ],
   "source": [
    "import folium\n",
    "# Plot of the path using folium\n",
    "geopath = [[point.y, point.x] for point in shortest_path]\n",
    "geomap  = folium.Map([0, 0], zoom_start=2)\n",
    "for point in geopath:\n",
    "    folium.Marker(point, popup=str(point)).add_to(geomap)\n",
    "folium.PolyLine(geopath).add_to(geomap)\n",
    "\n",
    "# Add a Mark on the start and positions in a different color\n",
    "folium.Marker(geopath[0], popup=str(start_point), icon=folium.Icon(color='red')).add_to(geomap)\n",
    "folium.Marker(geopath[-1], popup=str(end_point), icon=folium.Icon(color='red')).add_to(geomap)\n",
    "\n",
    "# Save the interactive plot as a map\n",
    "output_name = 'example_shortest_path_plot.png'\n",
    "geomap.save(output_name)\n",
    "print('Output saved to: {}'.format(output_name))"
   ]
  },
  {
   "cell_type": "code",
   "execution_count": 12,
   "metadata": {},
   "outputs": [
    {
     "ename": "TypeError",
     "evalue": "'Point' object is not subscriptable",
     "output_type": "error",
     "traceback": [
      "\u001b[0;31m---------------------------------------------------------------------------\u001b[0m",
      "\u001b[0;31mTypeError\u001b[0m                                 Traceback (most recent call last)",
      "\u001b[1;32m/Users/pratik/Docs/sem2022-23/IR/assignment_1/codes/functions.ipynb Cell 31\u001b[0m in \u001b[0;36m<cell line: 20>\u001b[0;34m()\u001b[0m\n\u001b[1;32m     <a href='vscode-notebook-cell:/Users/pratik/Docs/sem2022-23/IR/assignment_1/codes/functions.ipynb#X45sZmlsZQ%3D%3D?line=13'>14</a>\u001b[0m     plt\u001b[39m.\u001b[39mtitle(\u001b[39mf\u001b[39m\u001b[39m\"\u001b[39m\u001b[39mlawn_mower region:\u001b[39m\u001b[39m{\u001b[39;00mregion\u001b[39m}\u001b[39;00m\u001b[39m\"\u001b[39m)\n\u001b[1;32m     <a href='vscode-notebook-cell:/Users/pratik/Docs/sem2022-23/IR/assignment_1/codes/functions.ipynb#X45sZmlsZQ%3D%3D?line=16'>17</a>\u001b[0m polys \u001b[39m=\u001b[39m [(start_point[\u001b[39m0\u001b[39m], start_point[\u001b[39m1\u001b[39m]), (end_point[\u001b[39m0\u001b[39m], end_point[\u001b[39m1\u001b[39m]),(\u001b[39m-\u001b[39m\u001b[39m0.25\u001b[39m,\u001b[39m-\u001b[39m\u001b[39m0.5\u001b[39m),\n\u001b[1;32m     <a href='vscode-notebook-cell:/Users/pratik/Docs/sem2022-23/IR/assignment_1/codes/functions.ipynb#X45sZmlsZQ%3D%3D?line=17'>18</a>\u001b[0m                   (\u001b[39m0.5\u001b[39m,\u001b[39m-\u001b[39m\u001b[39m0.5\u001b[39m), (\u001b[39m0.5\u001b[39m,\u001b[39m0.5\u001b[39m), (\u001b[39m-\u001b[39m\u001b[39m0.5\u001b[39m,\u001b[39m0.5\u001b[39m),\n\u001b[1;32m     <a href='vscode-notebook-cell:/Users/pratik/Docs/sem2022-23/IR/assignment_1/codes/functions.ipynb#X45sZmlsZQ%3D%3D?line=18'>19</a>\u001b[0m                   (\u001b[39m-\u001b[39m\u001b[39m0.5\u001b[39m,\u001b[39m-\u001b[39m\u001b[39m0.25\u001b[39m),(\u001b[39m0.25\u001b[39m,\u001b[39m-\u001b[39m\u001b[39m0.25\u001b[39m)]    \n\u001b[0;32m---> <a href='vscode-notebook-cell:/Users/pratik/Docs/sem2022-23/IR/assignment_1/codes/functions.ipynb#X45sZmlsZQ%3D%3D?line=19'>20</a>\u001b[0m plot_wavepoints(polys,shortest_path, \u001b[39m1\u001b[39;49m)\n",
      "\u001b[1;32m/Users/pratik/Docs/sem2022-23/IR/assignment_1/codes/functions.ipynb Cell 31\u001b[0m in \u001b[0;36mplot_wavepoints\u001b[0;34m(poly_region, wave_points, region)\u001b[0m\n\u001b[1;32m      <a href='vscode-notebook-cell:/Users/pratik/Docs/sem2022-23/IR/assignment_1/codes/functions.ipynb#X45sZmlsZQ%3D%3D?line=7'>8</a>\u001b[0m plt\u001b[39m.\u001b[39mplot(x, y, c\u001b[39m=\u001b[39m\u001b[39m\"\u001b[39m\u001b[39mred\u001b[39m\u001b[39m\"\u001b[39m)\n\u001b[1;32m      <a href='vscode-notebook-cell:/Users/pratik/Docs/sem2022-23/IR/assignment_1/codes/functions.ipynb#X45sZmlsZQ%3D%3D?line=8'>9</a>\u001b[0m \u001b[39mfor\u001b[39;00m \u001b[39miter\u001b[39m, wave \u001b[39min\u001b[39;00m \u001b[39menumerate\u001b[39m(wave_points[:\u001b[39m-\u001b[39m\u001b[39m1\u001b[39m]):\n\u001b[0;32m---> <a href='vscode-notebook-cell:/Users/pratik/Docs/sem2022-23/IR/assignment_1/codes/functions.ipynb#X45sZmlsZQ%3D%3D?line=9'>10</a>\u001b[0m     x_values \u001b[39m=\u001b[39m [wave_points[\u001b[39miter\u001b[39;49m][\u001b[39m0\u001b[39;49m], wave_points[\u001b[39miter\u001b[39m\u001b[39m+\u001b[39m\u001b[39m1\u001b[39m][\u001b[39m0\u001b[39m]]\n\u001b[1;32m     <a href='vscode-notebook-cell:/Users/pratik/Docs/sem2022-23/IR/assignment_1/codes/functions.ipynb#X45sZmlsZQ%3D%3D?line=10'>11</a>\u001b[0m     y_values \u001b[39m=\u001b[39m [wave_points[\u001b[39miter\u001b[39m][\u001b[39m1\u001b[39m], wave_points[\u001b[39miter\u001b[39m\u001b[39m+\u001b[39m\u001b[39m1\u001b[39m][\u001b[39m1\u001b[39m]]\n\u001b[1;32m     <a href='vscode-notebook-cell:/Users/pratik/Docs/sem2022-23/IR/assignment_1/codes/functions.ipynb#X45sZmlsZQ%3D%3D?line=11'>12</a>\u001b[0m     \u001b[39mif\u001b[39;00m \u001b[39miter\u001b[39m \u001b[39m!=\u001b[39m \u001b[39mlen\u001b[39m(wave_points):\n",
      "\u001b[0;31mTypeError\u001b[0m: 'Point' object is not subscriptable"
     ]
    },
    {
     "data": {
      "image/png": "[encoded data removed]",
      "text/plain": [
       "<Figure size 360x360 with 1 Axes>"
      ]
     },
     "metadata": {
      "needs_background": "light"
     },
     "output_type": "display_data"
    }
   ],
   "source": [
    "from shapely.ops import linemerge, unary_union, polygonize\n",
    "from shapely.geometry import LineString, Polygon\n",
    "def plot_wavepoints(poly_region, wave_points, region):\n",
    "    plt.rcParams[\"figure.figsize\"] = [5, 5]\n",
    "    plt.rcParams[\"figure.autolayout\"] = True\n",
    "    polygon1 = Polygon(poly_region)\n",
    "    x, y = polygon1.exterior.xy\n",
    "    plt.plot(x, y, c=\"red\")\n",
    "    for iter, wave in enumerate(wave_points[:-1]):\n",
    "        x_values = [wave_points[iter][0], wave_points[iter+1][0]]\n",
    "        y_values = [wave_points[iter][1], wave_points[iter+1][1]]\n",
    "        if iter != len(wave_points):\n",
    "            plt.plot(x_values, y_values, linestyle='-', c=\"green\")\n",
    "    plt.title(f\"lawn_mower region:{region}\")\n",
    "\n",
    "\n",
    "polys = [(start_point[0], start_point[1]), (end_point[0], end_point[1]),(-0.25,-0.5),\n",
    "                  (0.5,-0.5), (0.5,0.5), (-0.5,0.5),\n",
    "                  (-0.5,-0.25),(0.25,-0.25)]    \n",
    "plot_wavepoints(polys,shortest_path, 1)"
   ]
  },
  {
   "cell_type": "code",
   "execution_count": null,
   "metadata": {},
   "outputs": [],
   "source": []
  }
 ],
 "metadata": {
  "kernelspec": {
   "display_name": "Python 3.8.2 64-bit",
   "language": "python",
   "name": "python3"
  },
  "language_info": {
   "codemirror_mode": {
    "name": "ipython",
    "version": 3
   },
   "file_extension": ".py",
   "mimetype": "text/x-python",
   "name": "python",
   "nbconvert_exporter": "python",
   "pygments_lexer": "ipython3",
   "version": "3.8.2"
  },
  "orig_nbformat": 4,
  "vscode": {
   "interpreter": {
    "hash": "aee8b7b246df8f9039afb4144a1f6fd8d2ca17a180786b69acc140d282b71a49"
   }
  }
 },
 "nbformat": 4,
 "nbformat_minor": 2
}
