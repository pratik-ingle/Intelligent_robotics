{
 "cells": [
  {
   "cell_type": "code",
   "execution_count": 49,
   "metadata": {},
   "outputs": [],
   "source": [
    "def path_plot(path, start, goal):\n",
    "    \"\"\"\n",
    "    plot path from GD\n",
    "    \"\"\"\n",
    "    plt.rcParams[\"figure.figsize\"] = [5, 5]\n",
    "    plt.rcParams[\"figure.autolayout\"] = True\n",
    "    for i in range(1, len(path)):\n",
    "        point1 = path[i-1]\n",
    "        point2 = path[i]\n",
    "        x_values = [point1[0], point2[0]]\n",
    "        y_values = [point1[1], point2[1]]\n",
    "        plt.plot(x_values, y_values, linestyle='-', c=\"red\")\n",
    "        # plt.plot(path[i][0], path[i][1], marker=\"o\", markersize=2, markerfacecolor=\"red\")\n",
    "    # for point in path:\n",
    "    plt.plot(-0.25, 1.4, marker=\"*\", markersize=4, markerfacecolor=\"orange\")\n",
    "    plt.plot(0.3, 1.35, marker=\"*\", markersize=4, markerfacecolor=\"orange\")\n",
    "    plt.plot(start[0], start[1], marker=\"o\", markersize=4, markerfacecolor=\"blue\")\n",
    "    plt.plot(goal[0], goal[1], marker=\"o\", markersize=4, markerfacecolor=\"green\")\n",
    "    x_values = [start[0], goal[0]]\n",
    "    y_values = [start[1], goal[1]]\n",
    "    # plt.plot(x_values, y_values, linestyle='-', c=\"blue\")\n",
    "    plt.xlim([-1.5,1.5])\n",
    "    plt.ylim([-1.5,1.5])\n",
    "    plt.title(f\"path following\")\n",
    "    plt.savefig(\"path.png\")\n",
    "    plt.show()"
   ]
  },
  {
   "cell_type": "code",
   "execution_count": 50,
   "metadata": {},
   "outputs": [],
   "source": [
    "with open('path.csv', newline='') as f:\n",
    "    reader = csv.reader(f)\n",
    "    data = [tuple([float(row[1]), float(row[2])]) for row in reader]\n",
    "\n",
    "path = data\n",
    "# print(data)"
   ]
  },
  {
   "cell_type": "code",
   "execution_count": 51,
   "metadata": {},
   "outputs": [
    {
     "data": {
      "image/png": "[encoded data removed]",
      "text/plain": [
       "<Figure size 360x360 with 1 Axes>"
      ]
     },
     "metadata": {
      "needs_background": "light"
     },
     "output_type": "display_data"
    }
   ],
   "source": [
    "path_plot(path[1:], path[1], path[-1])"
   ]
  },
  {
   "cell_type": "code",
   "execution_count": null,
   "metadata": {},
   "outputs": [],
   "source": []
  }
 ],
 "metadata": {
  "kernelspec": {
   "display_name": "Python 3.8.2 64-bit",
   "language": "python",
   "name": "python3"
  },
  "language_info": {
   "codemirror_mode": {
    "name": "ipython",
    "version": 3
   },
   "file_extension": ".py",
   "mimetype": "text/x-python",
   "name": "python",
   "nbconvert_exporter": "python",
   "pygments_lexer": "ipython3",
   "version": "3.8.2"
  },
  "orig_nbformat": 4,
  "vscode": {
   "interpreter": {
    "hash": "aee8b7b246df8f9039afb4144a1f6fd8d2ca17a180786b69acc140d282b71a49"
   }
  }
 },
 "nbformat": 4,
 "nbformat_minor": 2
}
